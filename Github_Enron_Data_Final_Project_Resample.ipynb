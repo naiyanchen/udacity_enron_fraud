{
 "cells": [
  {
   "cell_type": "markdown",
   "metadata": {},
   "source": [
    "### Udacity course Final Project \n",
    "#### Predict persons of interest using the Enron Dataset\n",
    "#### This workflow includes the strategy for dealing with imbalanced class proportions during model fitting by creating a balanced dataset by upsampling the minority class.\n"
   ]
  },
  {
   "cell_type": "code",
   "execution_count": 1,
   "metadata": {},
   "outputs": [],
   "source": [
    "%load_ext autoreload\n",
    "%autoreload 2\n",
    "\n",
    "import matplotlib.pyplot as plt\n",
    "import numpy as np\n",
    "import pandas as pd\n",
    "import seaborn as sns\n",
    "sns.set(style='whitegrid')\n",
    "%matplotlib inline\n",
    "import scipy as sp\n",
    "import statsmodels.stats.multitest as smm\n",
    "import csv\n",
    "import gzip\n",
    "import os\n",
    "import scipy.io\n"
   ]
  },
  {
   "cell_type": "markdown",
   "metadata": {},
   "source": [
    "#### Functions to convert dictionary to sklearn feature and target inputs"
   ]
  },
  {
   "cell_type": "code",
   "execution_count": 2,
   "metadata": {},
   "outputs": [],
   "source": [
    "\"\"\" \n",
    "    A general tool for converting data from the\n",
    "    dictionary format to an (n x k) python list that's \n",
    "    ready for training an sklearn algorithm\n",
    "\n",
    "    n--no. of key-value pairs in dictonary\n",
    "    k--no. of features being extracted\n",
    "\n",
    "    dictionary keys are names of persons in dataset\n",
    "    dictionary values are dictionaries, where each\n",
    "        key-value pair in the dict is the name\n",
    "        of a feature, and its value for that person\n",
    "\n",
    "    In addition to converting a dictionary to a numpy \n",
    "    array, you may want to separate the labels from the\n",
    "    features--this is what targetFeatureSplit is for\n",
    "\n",
    "    so, if you want to have the poi label as the target,\n",
    "    and the features you want to use are the person's\n",
    "    salary and bonus, here's what you would do:\n",
    "\n",
    "    feature_list = [\"poi\", \"salary\", \"bonus\"] \n",
    "    data_array = featureFormat( data_dictionary, feature_list )\n",
    "    label, features = targetFeatureSplit(data_array)\n",
    "\n",
    "    the line above (targetFeatureSplit) assumes that the\n",
    "    label is the _first_ item in feature_list--very important\n",
    "    that poi is listed first!\n",
    "\"\"\"\n",
    "\n",
    "\n",
    "import numpy as np\n",
    "\n",
    "def featureFormat( dictionary, features, remove_NaN=True, remove_all_zeroes=True, remove_any_zeroes=False, sort_keys = False):\n",
    "    \"\"\" convert dictionary to numpy array of features\n",
    "        remove_NaN = True will convert \"NaN\" string to 0.0\n",
    "        remove_all_zeroes = True will omit any data points for which\n",
    "            all the features you seek are 0.0\n",
    "        remove_any_zeroes = True will omit any data points for which\n",
    "            any of the features you seek are 0.0\n",
    "        sort_keys = True sorts keys by alphabetical order. Setting the value as\n",
    "            a string opens the corresponding pickle file with a preset key\n",
    "            order (this is used for Python 3 compatibility, and sort_keys\n",
    "            should be left as False for the course mini-projects).\n",
    "        NOTE: first feature is assumed to be 'poi' and is not checked for\n",
    "            removal for zero or missing values.\n",
    "    \"\"\"\n",
    "\n",
    "\n",
    "    return_list = []\n",
    "\n",
    "    # Key order - first branch is for Python 3 compatibility on mini-projects,\n",
    "    # second branch is for compatibility on final project.\n",
    "    if isinstance(sort_keys, str):\n",
    "        import pickle\n",
    "        keys = pickle.load(open(sort_keys, \"rb\"))\n",
    "    elif sort_keys:\n",
    "        keys = sorted(dictionary.keys())\n",
    "    else:\n",
    "        keys = dictionary.keys()\n",
    "\n",
    "    for key in keys:\n",
    "        tmp_list = []\n",
    "        for feature in features:\n",
    "            try:\n",
    "                dictionary[key][feature]\n",
    "            except KeyError:\n",
    "                print(\"error: key \", feature, \" not present\")\n",
    "                return\n",
    "            value = dictionary[key][feature]\n",
    "            if value==\"NaN\" and remove_NaN:\n",
    "                value = 0\n",
    "            tmp_list.append( float(value) )\n",
    "\n",
    "        # Logic for deciding whether or not to add the data point.\n",
    "        append = True\n",
    "        # exclude 'poi' class as criteria.\n",
    "        if features[0] == 'poi':\n",
    "            test_list = tmp_list[1:]\n",
    "        else:\n",
    "            test_list = tmp_list\n",
    "        ### if all features are zero and you want to remove\n",
    "        ### data points that are all zero, do that here\n",
    "        if remove_all_zeroes:\n",
    "            append = False\n",
    "            for item in test_list:\n",
    "                if item != 0 and item != \"NaN\":\n",
    "                    append = True\n",
    "                    break\n",
    "        ### if any features for a given data point are zero\n",
    "        ### and you want to remove data points with any zeroes,\n",
    "        ### handle that here\n",
    "        if remove_any_zeroes:\n",
    "            if 0 in test_list or \"NaN\" in test_list:\n",
    "                append = False\n",
    "        ### Append the data point if flagged for addition.\n",
    "        if append:\n",
    "            return_list.append( np.array(tmp_list) )\n",
    "\n",
    "    return np.array(return_list)\n",
    "\n",
    "\n",
    "def targetFeatureSplit( data ):\n",
    "    \"\"\" \n",
    "        given a numpy array like the one returned from\n",
    "        featureFormat, separate out the first feature\n",
    "        and put it into its own list (this should be the \n",
    "        quantity you want to predict)\n",
    "\n",
    "        return targets and features as separate lists\n",
    "\n",
    "        (sklearn can generally handle both lists and numpy arrays as \n",
    "        input formats when training/predicting)\n",
    "    \"\"\"\n",
    "\n",
    "    target = []\n",
    "    features = []\n",
    "    for item in data:\n",
    "        target.append( item[0] )\n",
    "        features.append( item[1:] )\n",
    "\n",
    "    return target, features\n"
   ]
  },
  {
   "cell_type": "markdown",
   "metadata": {},
   "source": [
    "#### Load the data"
   ]
  },
  {
   "cell_type": "code",
   "execution_count": 3,
   "metadata": {},
   "outputs": [
    {
     "name": "stdout",
     "output_type": "stream",
     "text": [
      "No of persons: 146\n"
     ]
    }
   ],
   "source": [
    "import pickle\n",
    "\n",
    "class StrToBytes:\n",
    "    def __init__(self, fileobj):\n",
    "        self.fileobj = fileobj\n",
    "    def read(self, size):\n",
    "        return self.fileobj.read(size).encode()\n",
    "    def readline(self, size=-1):\n",
    "        return self.fileobj.readline(size).encode()\n",
    "    \n",
    "#path = \"/Users/naiyan/desktop/UD/ud120-projects-master/final_project/\"\n",
    "path = \"/Users/chennad/desktop/UD/ud120-projects-master/final_project/\"\n",
    "file = path + \"final_project_dataset.pkl\"\n",
    "\n",
    "### Load the dictionary containing the dataset\n",
    "with open(file, \"r\") as f:\n",
    "    data_dict = pickle.load(StrToBytes(f))\n",
    "\n",
    "print('No of persons:', len(data_dict))"
   ]
  },
  {
   "cell_type": "markdown",
   "metadata": {},
   "source": [
    "#### Explore the features"
   ]
  },
  {
   "cell_type": "code",
   "execution_count": 4,
   "metadata": {},
   "outputs": [
    {
     "data": {
      "text/plain": [
       "{'salary': 201955,\n",
       " 'to_messages': 2902,\n",
       " 'deferral_payments': 2869717,\n",
       " 'total_payments': 4484442,\n",
       " 'loan_advances': 'NaN',\n",
       " 'bonus': 4175000,\n",
       " 'email_address': 'phillip.allen@enron.com',\n",
       " 'restricted_stock_deferred': -126027,\n",
       " 'deferred_income': -3081055,\n",
       " 'total_stock_value': 1729541,\n",
       " 'expenses': 13868,\n",
       " 'from_poi_to_this_person': 47,\n",
       " 'exercised_stock_options': 1729541,\n",
       " 'from_messages': 2195,\n",
       " 'other': 152,\n",
       " 'from_this_person_to_poi': 65,\n",
       " 'poi': False,\n",
       " 'long_term_incentive': 304805,\n",
       " 'shared_receipt_with_poi': 1407,\n",
       " 'restricted_stock': 126027,\n",
       " 'director_fees': 'NaN'}"
      ]
     },
     "execution_count": 4,
     "metadata": {},
     "output_type": "execute_result"
    }
   ],
   "source": [
    "# Total salary = salary + bonus + expenses + other + deferred_income\n",
    "# Total stock = exercised_stock_options + restricted_stock\n",
    "\n",
    "#data_dict[list(data_dict.keys())[0]]\n",
    "data_dict['ALLEN PHILLIP K']"
   ]
  },
  {
   "cell_type": "markdown",
   "metadata": {},
   "source": [
    "#### Feature_Engineering\n",
    "#### Normalize the features: 'from_poi_to_this_person' and 'from_this_person_to_poi' by 'to_messages' and 'from_messages' respectively to create new features 'normalized_from_poi_to_this_person' and 'normalized_from_this_person_to_poi'"
   ]
  },
  {
   "cell_type": "code",
   "execution_count": 5,
   "metadata": {},
   "outputs": [],
   "source": [
    "### Task 3: Create new feature(s)\n",
    "\n",
    "# Normalize 'from_poi_to_this_person' and 'from_this_person_to_poi' \n",
    "# by 'from_messages' and 'to_messages'\n",
    "\n",
    "\n",
    "for i in list(data_dict.keys()):\n",
    "    \n",
    "    data_dict[i].update( {'normalized_from_poi_to_this_person' : 0, 'normalized_from_this_person_to_poi':0} )\n",
    "    \n",
    "    if data_dict[i]['from_poi_to_this_person']!= 'NaN' and data_dict[i]['to_messages']!= 'NaN':\n",
    "        data_dict[i]['normalized_from_poi_to_this_person'] = data_dict[i]['from_poi_to_this_person']/data_dict[i]['to_messages']\n",
    "        \n",
    "    else:\n",
    "        data_dict[i]['normalized_from_poi_to_this_person'] = 'NaN'\n",
    "        \n",
    "    \n",
    "    if data_dict[i]['from_this_person_to_poi']!= 'NaN' and data_dict[i]['from_messages']!= 'NaN':\n",
    "        data_dict[i]['normalized_from_this_person_to_poi'] = data_dict[i]['from_this_person_to_poi']/data_dict[i]['from_messages']\n",
    "    \n",
    "    else:\n",
    "        data_dict[i]['normalized_from_this_person_to_poi'] = 'NaN'\n",
    "        "
   ]
  },
  {
   "cell_type": "markdown",
   "metadata": {},
   "source": [
    "#### Explore dataset and features"
   ]
  },
  {
   "cell_type": "code",
   "execution_count": 6,
   "metadata": {},
   "outputs": [
    {
     "name": "stdout",
     "output_type": "stream",
     "text": [
      "145 145 21\n"
     ]
    }
   ],
   "source": [
    "my_dataset = data_dict\n",
    "# Use all features\n",
    "features_to_use = list(data_dict[list(data_dict.keys())[0]].keys())\n",
    "features_to_use.remove('poi')\n",
    "features_list = ['poi']+ features_to_use\n",
    "# Email address is removed as it is not a useful feature\n",
    "features_list.remove('email_address')\n",
    "data = featureFormat(my_dataset, features_list, sort_keys = True)\n",
    "labels, features = targetFeatureSplit(data)\n",
    "print(len(labels),len(features), len(features[0]))\n"
   ]
  },
  {
   "cell_type": "code",
   "execution_count": 7,
   "metadata": {},
   "outputs": [],
   "source": [
    "def scatterplot_2_features(A_label = 'total_payments', B_label = 'total_stock_value', limit_axis = False, xlim = [0,1.5E7] , ylim = [0,2.5E7]):\n",
    "    A = []\n",
    "    B = []\n",
    "    A_label = A_label \n",
    "    B_label = B_label\n",
    "\n",
    "\n",
    "    for i in range(len(labels)):\n",
    "        A.append(features[i][features_list.index(A_label)-1])\n",
    "        B.append(features[i][features_list.index(B_label)-1])\n",
    "\n",
    "    plt.subplots(figsize=(15,15))\n",
    "    plt.scatter(A, B, c = labels, cmap=plt.cm.get_cmap(\"prism\", 2))\n",
    "    plt.grid(b=None)\n",
    "    \n",
    "    if limit_axis:\n",
    "        plt.xlim(xlim)\n",
    "        plt.ylim(ylim)\n",
    "        \n",
    "    plt.xlabel(A_label, fontsize=20)\n",
    "    plt.ylabel(B_label, fontsize=20)\n",
    "    theta = np.linspace(0,1,2)\n",
    "    cbar = plt.colorbar(ticks=theta, fraction=0.03, pad=0.04, aspect=10)"
   ]
  },
  {
   "cell_type": "code",
   "execution_count": 8,
   "metadata": {},
   "outputs": [
    {
     "data": {
      "image/png": "[encoded data removed]",
      "text/plain": [
       "<Figure size 1080x1080 with 2 Axes>"
      ]
     },
     "metadata": {
      "needs_background": "light"
     },
     "output_type": "display_data"
    }
   ],
   "source": [
    "scatterplot_2_features(A_label = 'total_payments', B_label = 'total_stock_value', limit_axis = True, xlim = [0,1.5E7] , ylim = [0,2.5E7])"
   ]
  },
  {
   "cell_type": "code",
   "execution_count": 9,
   "metadata": {},
   "outputs": [
    {
     "data": {
      "image/png": "[encoded data removed]",
      "text/plain": [
       "<Figure size 1080x1080 with 2 Axes>"
      ]
     },
     "metadata": {
      "needs_background": "light"
     },
     "output_type": "display_data"
    }
   ],
   "source": [
    "scatterplot_2_features(A_label = 'from_poi_to_this_person', B_label = 'from_this_person_to_poi')"
   ]
  },
  {
   "cell_type": "code",
   "execution_count": 10,
   "metadata": {},
   "outputs": [
    {
     "data": {
      "image/png": "[encoded data removed]",
      "text/plain": [
       "<Figure size 1080x1080 with 2 Axes>"
      ]
     },
     "metadata": {
      "needs_background": "light"
     },
     "output_type": "display_data"
    }
   ],
   "source": [
    "scatterplot_2_features(A_label = 'normalized_from_poi_to_this_person', B_label = 'normalized_from_this_person_to_poi')"
   ]
  },
  {
   "cell_type": "code",
   "execution_count": 11,
   "metadata": {},
   "outputs": [
    {
     "data": {
      "image/png": "[encoded data removed]",
      "text/plain": [
       "<Figure size 1080x1080 with 2 Axes>"
      ]
     },
     "metadata": {
      "needs_background": "light"
     },
     "output_type": "display_data"
    }
   ],
   "source": [
    "# Bonus may be a good feature\n",
    "scatterplot_2_features(A_label = 'bonus', B_label = 'salary', limit_axis = True, xlim = [0,0.25E7] , ylim = [0,0.5E7])"
   ]
  },
  {
   "cell_type": "code",
   "execution_count": 12,
   "metadata": {},
   "outputs": [
    {
     "data": {
      "image/png": "[encoded data removed]",
      "text/plain": [
       "<Figure size 1080x1080 with 2 Axes>"
      ]
     },
     "metadata": {
      "needs_background": "light"
     },
     "output_type": "display_data"
    }
   ],
   "source": [
    "scatterplot_2_features(A_label = 'bonus', B_label = 'salary')"
   ]
  },
  {
   "cell_type": "code",
   "execution_count": 13,
   "metadata": {},
   "outputs": [
    {
     "name": "stdout",
     "output_type": "stream",
     "text": [
      "TOTAL {'salary': 26704229, 'to_messages': 'NaN', 'deferral_payments': 32083396, 'total_payments': 309886585, 'loan_advances': 83925000, 'bonus': 97343619, 'email_address': 'NaN', 'restricted_stock_deferred': -7576788, 'deferred_income': -27992891, 'total_stock_value': 434509511, 'expenses': 5235198, 'from_poi_to_this_person': 'NaN', 'exercised_stock_options': 311764000, 'from_messages': 'NaN', 'other': 42667589, 'from_this_person_to_poi': 'NaN', 'poi': False, 'long_term_incentive': 48521928, 'shared_receipt_with_poi': 'NaN', 'restricted_stock': 130322299, 'director_fees': 1398517, 'normalized_from_poi_to_this_person': 'NaN', 'normalized_from_this_person_to_poi': 'NaN'}\n"
     ]
    }
   ],
   "source": [
    "for name, value in data_dict.items():\n",
    "    if float(data_dict[name]['salary'])>2.5E7 and float(data_dict[name]['bonus'])>0.8E8:\n",
    "        print(name, value)"
   ]
  },
  {
   "cell_type": "code",
   "execution_count": 14,
   "metadata": {},
   "outputs": [
    {
     "data": {
      "image/png": "[encoded data removed]",
      "text/plain": [
       "<Figure size 1080x1080 with 2 Axes>"
      ]
     },
     "metadata": {
      "needs_background": "light"
     },
     "output_type": "display_data"
    }
   ],
   "source": [
    "scatterplot_2_features(A_label = 'exercised_stock_options', B_label = 'restricted_stock', limit_axis = True, xlim = [0,0.5E8] , ylim = [0,0.3E8])"
   ]
  },
  {
   "cell_type": "markdown",
   "metadata": {},
   "source": [
    "#### Feature selection I : AB testing between POI and not POI to select features that show promise to help discrimination between POI and not POI"
   ]
  },
  {
   "cell_type": "code",
   "execution_count": 15,
   "metadata": {},
   "outputs": [
    {
     "name": "stdout",
     "output_type": "stream",
     "text": [
      "salary 0.01136492001870076\n",
      "to_messages 0.2877702634686849\n",
      "deferral_payments 20.806942726324834\n",
      "total_payments 0.07988788442835772\n",
      "loan_advances 9.119051622303687\n",
      "bonus 0.0007377345613928173\n",
      "restricted_stock_deferred 3.9306607206017103\n",
      "deferred_income 0.10022573038756154\n",
      "total_stock_value 0.0586871929414016\n",
      "expenses 0.013770272952918884\n",
      "from_poi_to_this_person 0.026312824482695705\n",
      "exercised_stock_options 3.9129431407934954\n",
      "from_messages 1.794212154355375\n",
      "other 0.006280261112612123\n",
      "from_this_person_to_poi 0.030944590206327012\n",
      "long_term_incentive 0.19574250743913163\n",
      "shared_receipt_with_poi 0.09364497738466573\n",
      "restricted_stock 0.03968100872875654\n",
      "director_fees 2.1117043097394697\n",
      "normalized_from_poi_to_this_person 0.10051721466522891\n",
      "normalized_from_this_person_to_poi 0.0017398004097784346\n",
      "\n",
      "['salary', 'total_payments', 'bonus', 'deferred_income', 'total_stock_value', 'expenses', 'from_poi_to_this_person', 'other', 'from_this_person_to_poi', 'shared_receipt_with_poi', 'restricted_stock', 'normalized_from_poi_to_this_person', 'normalized_from_this_person_to_poi']\n",
      "13\n"
     ]
    }
   ],
   "source": [
    "from scipy import stats\n",
    "\n",
    "Good_features_AB_Testing = []\n",
    "\n",
    "for j in range(len(features[0])):\n",
    "    \n",
    "    POI = []\n",
    "    Not_POI = []\n",
    "    \n",
    "    for i in range(len(labels)):\n",
    "      \n",
    "        if labels[i] == 1:\n",
    "            POI.append(features[i][j])\n",
    "        else:\n",
    "            Not_POI.append(features[i][j])\n",
    "\n",
    "    H, pval = stats.kruskal(POI, Not_POI)\n",
    "    \n",
    "    # With Bonferroni correction\n",
    "    print(features_list[1+j], pval*len(features[0]))\n",
    "    \n",
    "    if pval*len(features[0])<0.15:\n",
    "        Good_features_AB_Testing.append(features_list[1+j])\n",
    "  \n",
    "print('')\n",
    "print(Good_features_AB_Testing)\n",
    "print(len(Good_features_AB_Testing))\n"
   ]
  },
  {
   "cell_type": "markdown",
   "metadata": {},
   "source": [
    "#### Feature selection II : Based on reasoning\n",
    "\n",
    "#### Remove 'from_poi_to_this_person' and 'shared_receipt_with_poi' and keep 'normalized_from_poi_to_this_person' and 'normalized_from_this_person_to_poi'.\n",
    "\n",
    "#### Remove 'shared_receipt_with_poi' as it contains information about the label as explained in the lectures\n",
    "\n",
    "#### Remove 'total_payments' as it is redudant and is an aggregate of other features including 'salary' , 'bonus' , 'expenses' , 'other' and 'deferred_income'"
   ]
  },
  {
   "cell_type": "code",
   "execution_count": 16,
   "metadata": {},
   "outputs": [],
   "source": [
    "Good_features_AB_Testing.remove('from_poi_to_this_person')\n",
    "Good_features_AB_Testing.remove('from_this_person_to_poi')\n",
    "Good_features_AB_Testing.remove('shared_receipt_with_poi')"
   ]
  },
  {
   "cell_type": "code",
   "execution_count": 17,
   "metadata": {},
   "outputs": [],
   "source": [
    "# Total payments = salary + bonus + expenses + other + deferred_income\n",
    "# Total stock = exercised_stock_options + restricted_stock\n",
    "\n",
    "Good_features_AB_Testing.remove('total_payments')"
   ]
  },
  {
   "cell_type": "code",
   "execution_count": 18,
   "metadata": {},
   "outputs": [
    {
     "name": "stdout",
     "output_type": "stream",
     "text": [
      "9\n"
     ]
    },
    {
     "data": {
      "text/plain": [
       "['salary',\n",
       " 'bonus',\n",
       " 'deferred_income',\n",
       " 'total_stock_value',\n",
       " 'expenses',\n",
       " 'other',\n",
       " 'restricted_stock',\n",
       " 'normalized_from_poi_to_this_person',\n",
       " 'normalized_from_this_person_to_poi']"
      ]
     },
     "execution_count": 18,
     "metadata": {},
     "output_type": "execute_result"
    }
   ],
   "source": [
    "print(len(Good_features_AB_Testing))\n",
    "Good_features_AB_Testing"
   ]
  },
  {
   "cell_type": "markdown",
   "metadata": {},
   "source": [
    "#### Explore the data - check for NaN and zeros\n",
    "\n",
    "#### Note: The features with high number of NaN did not appear to help discrimination between POI and non-POI (see section: Feature selection I : AB testing between POI and not POI to select features that show promise to help discrimination between POI and not POI)"
   ]
  },
  {
   "cell_type": "code",
   "execution_count": 19,
   "metadata": {},
   "outputs": [],
   "source": [
    "from collections import defaultdict\n",
    "\n",
    "features_NaN_count_dict = defaultdict(int)\n",
    "features_NaN_count_dict = features_NaN_count_dict.fromkeys(data_dict[list(data_dict.keys())[0]].keys(), 0)\n",
    "features_zero_count_dict = defaultdict(int)\n",
    "features_zero_count_dict = features_zero_count_dict.fromkeys(data_dict[list(data_dict.keys())[0]].keys(), 0)\n",
    "features_NaN_or_zero_count_dict = defaultdict(int)\n",
    "features_NaN_or_zero_count_dict = features_NaN_or_zero_count_dict.fromkeys(data_dict[list(data_dict.keys())[0]].keys(), 0)\n",
    "\n",
    "\n",
    "for i in data_dict.keys():\n",
    "    for j in data_dict[i].keys():\n",
    "        if data_dict[i][j] == 'NaN':\n",
    "            features_NaN_count_dict[j]+=1\n",
    "            \n",
    "for i in data_dict.keys():\n",
    "    for j in data_dict[i].keys():\n",
    "        if data_dict[i][j] == 0:\n",
    "            features_zero_count_dict[j]+=1\n",
    "                  \n",
    "for i in data_dict.keys():\n",
    "    for j in data_dict[i].keys():\n",
    "        if data_dict[i][j] == 'NaN' or data_dict[i][j] == 0:\n",
    "            features_NaN_or_zero_count_dict[j]+=1\n",
    "                  "
   ]
  },
  {
   "cell_type": "code",
   "execution_count": 20,
   "metadata": {},
   "outputs": [
    {
     "data": {
      "text/plain": [
       "defaultdict(None,\n",
       "            {'salary': 51,\n",
       "             'to_messages': 60,\n",
       "             'deferral_payments': 107,\n",
       "             'total_payments': 21,\n",
       "             'loan_advances': 142,\n",
       "             'bonus': 64,\n",
       "             'email_address': 35,\n",
       "             'restricted_stock_deferred': 128,\n",
       "             'deferred_income': 97,\n",
       "             'total_stock_value': 20,\n",
       "             'expenses': 51,\n",
       "             'from_poi_to_this_person': 60,\n",
       "             'exercised_stock_options': 44,\n",
       "             'from_messages': 60,\n",
       "             'other': 53,\n",
       "             'from_this_person_to_poi': 60,\n",
       "             'poi': 0,\n",
       "             'long_term_incentive': 80,\n",
       "             'shared_receipt_with_poi': 60,\n",
       "             'restricted_stock': 36,\n",
       "             'director_fees': 129,\n",
       "             'normalized_from_poi_to_this_person': 60,\n",
       "             'normalized_from_this_person_to_poi': 60})"
      ]
     },
     "execution_count": 20,
     "metadata": {},
     "output_type": "execute_result"
    }
   ],
   "source": [
    "features_NaN_count_dict     "
   ]
  },
  {
   "cell_type": "code",
   "execution_count": 21,
   "metadata": {},
   "outputs": [
    {
     "data": {
      "text/plain": [
       "defaultdict(None,\n",
       "            {'salary': 0,\n",
       "             'to_messages': 0,\n",
       "             'deferral_payments': 0,\n",
       "             'total_payments': 0,\n",
       "             'loan_advances': 0,\n",
       "             'bonus': 0,\n",
       "             'email_address': 0,\n",
       "             'restricted_stock_deferred': 0,\n",
       "             'deferred_income': 0,\n",
       "             'total_stock_value': 0,\n",
       "             'expenses': 0,\n",
       "             'from_poi_to_this_person': 12,\n",
       "             'exercised_stock_options': 0,\n",
       "             'from_messages': 0,\n",
       "             'other': 0,\n",
       "             'from_this_person_to_poi': 20,\n",
       "             'poi': 128,\n",
       "             'long_term_incentive': 0,\n",
       "             'shared_receipt_with_poi': 0,\n",
       "             'restricted_stock': 0,\n",
       "             'director_fees': 0,\n",
       "             'normalized_from_poi_to_this_person': 12,\n",
       "             'normalized_from_this_person_to_poi': 20})"
      ]
     },
     "execution_count": 21,
     "metadata": {},
     "output_type": "execute_result"
    }
   ],
   "source": [
    "features_zero_count_dict     "
   ]
  },
  {
   "cell_type": "code",
   "execution_count": 22,
   "metadata": {},
   "outputs": [
    {
     "data": {
      "text/plain": [
       "defaultdict(None,\n",
       "            {'salary': 51,\n",
       "             'to_messages': 60,\n",
       "             'deferral_payments': 107,\n",
       "             'total_payments': 21,\n",
       "             'loan_advances': 142,\n",
       "             'bonus': 64,\n",
       "             'email_address': 35,\n",
       "             'restricted_stock_deferred': 128,\n",
       "             'deferred_income': 97,\n",
       "             'total_stock_value': 20,\n",
       "             'expenses': 51,\n",
       "             'from_poi_to_this_person': 72,\n",
       "             'exercised_stock_options': 44,\n",
       "             'from_messages': 60,\n",
       "             'other': 53,\n",
       "             'from_this_person_to_poi': 80,\n",
       "             'poi': 128,\n",
       "             'long_term_incentive': 80,\n",
       "             'shared_receipt_with_poi': 60,\n",
       "             'restricted_stock': 36,\n",
       "             'director_fees': 129,\n",
       "             'normalized_from_poi_to_this_person': 72,\n",
       "             'normalized_from_this_person_to_poi': 80})"
      ]
     },
     "execution_count": 22,
     "metadata": {},
     "output_type": "execute_result"
    }
   ],
   "source": [
    "features_NaN_or_zero_count_dict"
   ]
  },
  {
   "cell_type": "markdown",
   "metadata": {},
   "source": [
    "#### Feed Selected features into given functions 'featureFormat' and 'targetFeatureSplit' to produce labels and features to feed into classifier"
   ]
  },
  {
   "cell_type": "code",
   "execution_count": 23,
   "metadata": {},
   "outputs": [
    {
     "data": {
      "text/plain": [
       "['salary',\n",
       " 'bonus',\n",
       " 'deferred_income',\n",
       " 'total_stock_value',\n",
       " 'expenses',\n",
       " 'other',\n",
       " 'restricted_stock',\n",
       " 'normalized_from_poi_to_this_person',\n",
       " 'normalized_from_this_person_to_poi']"
      ]
     },
     "execution_count": 23,
     "metadata": {},
     "output_type": "execute_result"
    }
   ],
   "source": [
    "Good_features_AB_Testing"
   ]
  },
  {
   "cell_type": "markdown",
   "metadata": {},
   "source": [
    "#### Remove outlier 'TOTAL' from data_dict"
   ]
  },
  {
   "cell_type": "code",
   "execution_count": 24,
   "metadata": {},
   "outputs": [
    {
     "data": {
      "text/plain": [
       "{'salary': 26704229,\n",
       " 'to_messages': 'NaN',\n",
       " 'deferral_payments': 32083396,\n",
       " 'total_payments': 309886585,\n",
       " 'loan_advances': 83925000,\n",
       " 'bonus': 97343619,\n",
       " 'email_address': 'NaN',\n",
       " 'restricted_stock_deferred': -7576788,\n",
       " 'deferred_income': -27992891,\n",
       " 'total_stock_value': 434509511,\n",
       " 'expenses': 5235198,\n",
       " 'from_poi_to_this_person': 'NaN',\n",
       " 'exercised_stock_options': 311764000,\n",
       " 'from_messages': 'NaN',\n",
       " 'other': 42667589,\n",
       " 'from_this_person_to_poi': 'NaN',\n",
       " 'poi': False,\n",
       " 'long_term_incentive': 48521928,\n",
       " 'shared_receipt_with_poi': 'NaN',\n",
       " 'restricted_stock': 130322299,\n",
       " 'director_fees': 1398517,\n",
       " 'normalized_from_poi_to_this_person': 'NaN',\n",
       " 'normalized_from_this_person_to_poi': 'NaN'}"
      ]
     },
     "execution_count": 24,
     "metadata": {},
     "output_type": "execute_result"
    }
   ],
   "source": [
    "# Removing this outlier greatly improves F1 score\n",
    "data_dict.pop('TOTAL')"
   ]
  },
  {
   "cell_type": "code",
   "execution_count": 25,
   "metadata": {},
   "outputs": [],
   "source": [
    "### features_list is a list of strings, each of which is a feature name.\n",
    "### The first feature must be \"poi\".\n",
    "features_list = ['poi']+ Good_features_AB_Testing\n",
    "my_dataset = data_dict\n",
    "data = featureFormat(my_dataset, features_list, sort_keys = True)\n",
    "labels, features = targetFeatureSplit(data)"
   ]
  },
  {
   "cell_type": "markdown",
   "metadata": {},
   "source": [
    "#### Check if dataset has unequal class proportions\n",
    "\n",
    "#### This dataset indeed has unequal class proportions"
   ]
  },
  {
   "cell_type": "code",
   "execution_count": 26,
   "metadata": {},
   "outputs": [
    {
     "data": {
      "text/plain": [
       "Counter({0.0: 125, 1.0: 18})"
      ]
     },
     "execution_count": 26,
     "metadata": {},
     "output_type": "execute_result"
    }
   ],
   "source": [
    "from collections import Counter\n",
    "Counter(labels)"
   ]
  },
  {
   "cell_type": "markdown",
   "metadata": {},
   "source": [
    "#### Feature scaling"
   ]
  },
  {
   "cell_type": "code",
   "execution_count": 27,
   "metadata": {},
   "outputs": [
    {
     "name": "stdout",
     "output_type": "stream",
     "text": [
      "Number of samples: 143\n",
      "Number of features: 9\n",
      "\n",
      "Number of samples: 143\n",
      "Number of features: 9\n"
     ]
    }
   ],
   "source": [
    "from sklearn.preprocessing import StandardScaler\n",
    "\n",
    "# n_samples x n_features\n",
    "print('Number of samples:', np.array(features).shape[0])\n",
    "print('Number of features:', np.array(features).shape[1])\n",
    "print('')\n",
    "\n",
    "X_std = StandardScaler().fit_transform(features)\n",
    "\n",
    "print('Number of samples:', np.array(X_std).shape[0])\n",
    "print('Number of features:', np.array(X_std).shape[1])\n"
   ]
  },
  {
   "cell_type": "markdown",
   "metadata": {},
   "source": [
    "#### Classification: Algorithm Selection using Nested Cross Validation"
   ]
  },
  {
   "cell_type": "code",
   "execution_count": 84,
   "metadata": {},
   "outputs": [
    {
     "name": "stdout",
     "output_type": "stream",
     "text": [
      "Number of class 0 samples before: 125\n",
      "Number of class 1 samples before: 18\n",
      "\n",
      "Number of class 1 samples after: 125\n"
     ]
    }
   ],
   "source": [
    "\"\"\"\n",
    "\n",
    "Algorithm selection with nested cross validation\n",
    "\n",
    "Implement: \n",
    "(1) Standard scaling on dataset\n",
    "(2) With and Without PCA\n",
    "(3) Nested cross validation for algorithm selection\n",
    "(4) Stratified K fold cross validation for dataset with imbalanced classes\n",
    "(5) GridSearch to iterate through range of parameters for PCA and classifier\n",
    "\n",
    "Arguments:\n",
    "\n",
    "Num_Random_Trials: Number of random trials to iterate through outer and inner CV\n",
    "Num_of_folds_outer: Number of folds in outer loop of nested CV\n",
    "Num_of_folds_inner: Number of folds in inner loop of nested CV\n",
    "Scoring_metric: Performance evaluation metric for algorithm selection\n",
    "\n",
    "\"\"\"\n",
    "\n",
    "from sklearn.preprocessing import StandardScaler\n",
    "from sklearn.decomposition import PCA\n",
    "from sklearn.linear_model import LogisticRegression\n",
    "from sklearn.ensemble import RandomForestClassifier  \n",
    "from sklearn.neighbors import KNeighborsClassifier\n",
    "from sklearn import svm\n",
    "from sklearn import tree\n",
    "from sklearn.ensemble import AdaBoostClassifier \n",
    "from sklearn.ensemble import GradientBoostingClassifier\n",
    "from sklearn.pipeline import Pipeline\n",
    "from sklearn.model_selection import StratifiedKFold, KFold, GridSearchCV, cross_val_score\n",
    "from sklearn.utils import resample\n",
    "import time \n",
    "import warnings\n",
    "\n",
    "# Check if dataset classes are imbalanced \n",
    "from collections import Counter\n",
    "Counter(labels)\n",
    "\n",
    "print('Number of class 0 samples before:', list(Counter(labels).values())[0])\n",
    "print('Number of class 1 samples before:', list(Counter(labels).values())[1])\n",
    "print('')\n",
    "\n",
    "\n",
    "# Resample to upsample minority class 1\n",
    "features_ary = np.array(features)\n",
    "labels_ary = np.array(labels)\n",
    "\n",
    "X_upsampled, y_upsampled = resample(features_ary[labels_ary==1,:], labels_ary[labels_ary==1], replace=True, n_samples=features_ary[labels_ary==0,:].shape[0],random_state=123)\n",
    "\n",
    "print('Number of class 1 samples after:', X_upsampled.shape[0])\n",
    "\n",
    "X_balanced = np.vstack((features_ary[labels_ary == 0], X_upsampled))\n",
    "Y_balanced = np.hstack((labels_ary[labels_ary == 0], y_upsampled))\n",
    "\n",
    "\n",
    "def entire_pipeline_resample(classifier = LogisticRegression(), parameters = [], Num_Random_Trials = 5,Num_of_folds_outer = 5, Num_of_folds_inner = 5, Scoring_metric = 'f1', warning_true = True):\n",
    "\n",
    "        \n",
    "    if warning_true:\n",
    "        warnings.filterwarnings('ignore')\n",
    "\n",
    "    pipe = Pipeline([['sc', StandardScaler()], \n",
    "                     ['pca', PCA()], \n",
    "                     ['clf', classifier]\n",
    "                    ])\n",
    "\n",
    "    # To store the scores from each fold of the outer loop \n",
    "    scores = []\n",
    "\n",
    "    start = time.time()\n",
    "\n",
    "    for i in range(Num_Random_Trials):\n",
    "\n",
    "    #     inner_cv = KFold(n_splits=Num_of_folds_inner,shuffle=True,random_state=i)\n",
    "    #     outer_cv = KFold(n_splits=Num_of_folds_outer,shuffle=True,random_state=i)\n",
    "\n",
    "        inner_cv = StratifiedKFold(n_splits=Num_of_folds_inner,shuffle=True,random_state=i)\n",
    "        outer_cv = StratifiedKFold(n_splits=Num_of_folds_outer,shuffle=True,random_state=i)\n",
    "\n",
    "        gs = GridSearchCV(estimator=pipe,param_grid=parameters,\n",
    "                          cv=inner_cv,scoring=Scoring_metric, n_jobs=-1)\n",
    "\n",
    "        nested_scores = cross_val_score(gs, X=X_balanced, y=Y_balanced, cv=outer_cv, scoring=Scoring_metric)\n",
    "        scores.append(np.mean(nested_scores))\n",
    "\n",
    "    print('Averaged_' + str(Scoring_metric) + '_score: %.3f +/-%0.3f' %(np.mean(scores), np.std(scores)))\n",
    "    print('Time_of_completion:', time.time()-start)"
   ]
  },
  {
   "cell_type": "markdown",
   "metadata": {},
   "source": [
    "#### (1) Logistic Regression"
   ]
  },
  {
   "cell_type": "code",
   "execution_count": 87,
   "metadata": {},
   "outputs": [
    {
     "name": "stdout",
     "output_type": "stream",
     "text": [
      "Averaged_f1_score: 0.862 +/-0.012\n",
      "Time_of_completion: 44.23823428153992\n",
      "Averaged_precision_score: 0.827 +/-0.018\n",
      "Time_of_completion: 39.48553514480591\n",
      "Averaged_recall_score: 0.898 +/-0.022\n",
      "Time_of_completion: 38.64518094062805\n",
      "Averaged_accuracy_score: 0.857 +/-0.011\n",
      "Time_of_completion: 38.14199876785278\n"
     ]
    }
   ],
   "source": [
    "# Note: Option for no dimensional reduction is included\n",
    "n_all_PCA_components = min(np.array(features).shape[0], np.array(features).shape[1])\n",
    "    \n",
    "parameters = [{'pca__n_components': np.arange(1,n_all_PCA_components+1),\n",
    "               'clf__C': 10.0**np.arange(-4,4),\n",
    "               'clf__penalty': ['l1','l2'],\n",
    "               'clf__max_iter': [200]},\n",
    "              \n",
    "              {'pca__n_components': np.arange(1,n_all_PCA_components+1),\n",
    "               'clf__penalty': ['none'],\n",
    "               'clf__solver': ['saga'],\n",
    "               'clf__max_iter': [200]\n",
    "              }]\n",
    "    \n",
    "entire_pipeline_resample(classifier = LogisticRegression(), parameters = parameters, Num_Random_Trials = 5,Num_of_folds_outer = 5, Num_of_folds_inner = 5, Scoring_metric = 'f1',warning_true = True)\n",
    "entire_pipeline_resample(classifier = LogisticRegression(), parameters = parameters, Num_Random_Trials = 5,Num_of_folds_outer = 5, Num_of_folds_inner = 5, Scoring_metric = 'precision',warning_true = True)\n",
    "entire_pipeline_resample(classifier = LogisticRegression(), parameters = parameters, Num_Random_Trials = 5,Num_of_folds_outer = 5, Num_of_folds_inner = 5, Scoring_metric = 'recall',warning_true = True)\n",
    "entire_pipeline_resample(classifier = LogisticRegression(), parameters = parameters, Num_Random_Trials = 5,Num_of_folds_outer = 5, Num_of_folds_inner = 5, Scoring_metric = 'accuracy',warning_true = True)"
   ]
  },
  {
   "cell_type": "markdown",
   "metadata": {
    "collapsed": true
   },
   "source": [
    "#### (2) Random forest"
   ]
  },
  {
   "cell_type": "code",
   "execution_count": 89,
   "metadata": {},
   "outputs": [
    {
     "name": "stdout",
     "output_type": "stream",
     "text": [
      "Averaged_f1_score: 0.924 +/-0.005\n",
      "Time_of_completion: 318.91158294677734\n",
      "Averaged_precision_score: 0.864 +/-0.008\n",
      "Time_of_completion: 344.3571672439575\n",
      "Averaged_recall_score: 0.994 +/-0.013\n",
      "Time_of_completion: 324.56498408317566\n",
      "Averaged_accuracy_score: 0.910 +/-0.005\n",
      "Time_of_completion: 314.8069930076599\n"
     ]
    }
   ],
   "source": [
    "n_all_PCA_components = min(np.array(features).shape[0], np.array(features).shape[1])\n",
    "    \n",
    "parameters = [{'pca__n_components': np.arange(1,n_all_PCA_components+1),\n",
    "               'clf__n_estimators': [10,30,100],\n",
    "               'clf__max_depth': np.arange(2,5)\n",
    "              },\n",
    "              \n",
    "              {'pca__n_components': np.arange(1,n_all_PCA_components+1),\n",
    "               'clf__n_estimators': [10,30,100],\n",
    "               'clf__max_depth': np.arange(2,5)\n",
    "              }]\n",
    "    \n",
    "entire_pipeline_resample(classifier = RandomForestClassifier(), parameters = parameters, Num_Random_Trials = 5,Num_of_folds_outer = 5, Num_of_folds_inner = 5, Scoring_metric = 'f1',warning_true = True)\n",
    "entire_pipeline_resample(classifier = RandomForestClassifier(), parameters = parameters, Num_Random_Trials = 5,Num_of_folds_outer = 5, Num_of_folds_inner = 5, Scoring_metric = 'precision',warning_true = True)\n",
    "entire_pipeline_resample(classifier = RandomForestClassifier(), parameters = parameters, Num_Random_Trials = 5,Num_of_folds_outer = 5, Num_of_folds_inner = 5, Scoring_metric = 'recall',warning_true = True)\n",
    "entire_pipeline_resample(classifier = RandomForestClassifier(), parameters = parameters, Num_Random_Trials = 5,Num_of_folds_outer = 5, Num_of_folds_inner = 5, Scoring_metric = 'accuracy',warning_true = True)"
   ]
  },
  {
   "cell_type": "markdown",
   "metadata": {},
   "source": [
    "#### (3) Support vector machine"
   ]
  },
  {
   "cell_type": "code",
   "execution_count": 90,
   "metadata": {},
   "outputs": [
    {
     "name": "stdout",
     "output_type": "stream",
     "text": [
      "Averaged_f1_score: 0.997 +/-0.003\n",
      "Time_of_completion: 254.62103390693665\n",
      "Averaged_precision_score: 0.905 +/-0.055\n",
      "Time_of_completion: 257.1839323043823\n",
      "Averaged_recall_score: 0.997 +/-0.006\n",
      "Time_of_completion: 253.69966292381287\n",
      "Averaged_accuracy_score: 0.997 +/-0.003\n",
      "Time_of_completion: 247.59900283813477\n"
     ]
    }
   ],
   "source": [
    "n_all_PCA_components = min(np.array(features).shape[0], np.array(features).shape[1])\n",
    "    \n",
    "parameters = [{'pca__n_components': np.arange(1,n_all_PCA_components+1),\n",
    "               'clf__C': 10.0**np.arange(-4,4), \n",
    "               'clf__kernel': ['linear', 'poly','sigmoid'],\n",
    "               'clf__kernel': ['linear']\n",
    "              },\n",
    "              \n",
    "              {'pca__n_components': np.arange(1,n_all_PCA_components+1),\n",
    "               'clf__C': 10.0**np.arange(-4,4),\n",
    "               'clf__gamma': 10.0**np.arange(-4,4), \n",
    "               'clf__kernel': ['rbf']\n",
    "              }]\n",
    "    \n",
    "entire_pipeline_resample(classifier = svm.SVC(), parameters = parameters, Num_Random_Trials = 5,Num_of_folds_outer = 5, Num_of_folds_inner = 5, Scoring_metric = 'f1',warning_true = True)\n",
    "entire_pipeline_resample(classifier = svm.SVC(), parameters = parameters, Num_Random_Trials = 5,Num_of_folds_outer = 5, Num_of_folds_inner = 5, Scoring_metric = 'precision',warning_true = True)\n",
    "entire_pipeline_resample(classifier = svm.SVC(), parameters = parameters, Num_Random_Trials = 5,Num_of_folds_outer = 5, Num_of_folds_inner = 5, Scoring_metric = 'recall',warning_true = True)\n",
    "entire_pipeline_resample(classifier = svm.SVC(), parameters = parameters, Num_Random_Trials = 5,Num_of_folds_outer = 5, Num_of_folds_inner = 5, Scoring_metric = 'accuracy',warning_true = True)\n"
   ]
  },
  {
   "cell_type": "markdown",
   "metadata": {},
   "source": [
    "#### (4) KNN"
   ]
  },
  {
   "cell_type": "code",
   "execution_count": 85,
   "metadata": {},
   "outputs": [
    {
     "name": "stdout",
     "output_type": "stream",
     "text": [
      "Averaged_f1_score: 0.952 +/-0.007\n",
      "Time_of_completion: 43.04049801826477\n",
      "Averaged_precision_score: 0.913 +/-0.016\n",
      "Time_of_completion: 52.814374923706055\n",
      "Averaged_recall_score: 1.000 +/-0.000\n",
      "Time_of_completion: 34.41647696495056\n",
      "Averaged_accuracy_score: 0.949 +/-0.009\n",
      "Time_of_completion: 36.14137077331543\n"
     ]
    }
   ],
   "source": [
    "n_all_PCA_components = min(np.array(features).shape[0], np.array(features).shape[1])\n",
    "    \n",
    "parameters = [{'pca__n_components': np.arange(1,n_all_PCA_components+1),\n",
    "               'clf__n_neighbors': np.arange(1,20)\n",
    "              }]\n",
    "    \n",
    "entire_pipeline_resample(classifier = KNeighborsClassifier(), parameters = parameters, Num_Random_Trials = 5,Num_of_folds_outer = 5, Num_of_folds_inner = 5, Scoring_metric = 'f1',warning_true = True)\n",
    "entire_pipeline_resample(classifier = KNeighborsClassifier(), parameters = parameters, Num_Random_Trials = 5,Num_of_folds_outer = 5, Num_of_folds_inner = 5, Scoring_metric = 'precision',warning_true = True)\n",
    "entire_pipeline_resample(classifier = KNeighborsClassifier(), parameters = parameters, Num_Random_Trials = 5,Num_of_folds_outer = 5, Num_of_folds_inner = 5, Scoring_metric = 'recall',warning_true = True)\n",
    "entire_pipeline_resample(classifier = KNeighborsClassifier(), parameters = parameters, Num_Random_Trials = 5,Num_of_folds_outer = 5, Num_of_folds_inner = 5, Scoring_metric = 'accuracy',warning_true = True)"
   ]
  },
  {
   "cell_type": "markdown",
   "metadata": {},
   "source": [
    "#### (5) Adaboost"
   ]
  },
  {
   "cell_type": "code",
   "execution_count": 92,
   "metadata": {},
   "outputs": [
    {
     "name": "stdout",
     "output_type": "stream",
     "text": [
      "Averaged_f1_score: 0.951 +/-0.010\n",
      "Time_of_completion: 264.39467120170593\n",
      "Averaged_precision_score: 0.908 +/-0.017\n",
      "Time_of_completion: 265.15526819229126\n",
      "Averaged_recall_score: 0.990 +/-0.013\n",
      "Time_of_completion: 310.63445496559143\n",
      "Averaged_accuracy_score: 0.945 +/-0.010\n",
      "Time_of_completion: 274.9981210231781\n"
     ]
    }
   ],
   "source": [
    "n_all_PCA_components = min(np.array(features).shape[0], np.array(features).shape[1])\n",
    "    \n",
    "parameters = [{'pca__n_components': np.arange(1,n_all_PCA_components+1),\n",
    "               'clf__n_estimators': np.arange(1,11)*10,\n",
    "               'clf__base_estimator': [tree.DecisionTreeClassifier(max_depth=1)]\n",
    "              }]\n",
    "    \n",
    "entire_pipeline_resample(classifier = AdaBoostClassifier(), parameters = parameters, Num_Random_Trials = 5,Num_of_folds_outer = 5, Num_of_folds_inner = 5, Scoring_metric = 'f1',warning_true = True)\n",
    "entire_pipeline_resample(classifier = AdaBoostClassifier(), parameters = parameters, Num_Random_Trials = 5,Num_of_folds_outer = 5, Num_of_folds_inner = 5, Scoring_metric = 'precision',warning_true = True)\n",
    "entire_pipeline_resample(classifier = AdaBoostClassifier(), parameters = parameters, Num_Random_Trials = 5,Num_of_folds_outer = 5, Num_of_folds_inner = 5, Scoring_metric = 'recall',warning_true = True)\n",
    "entire_pipeline_resample(classifier = AdaBoostClassifier(), parameters = parameters, Num_Random_Trials = 5,Num_of_folds_outer = 5, Num_of_folds_inner = 5, Scoring_metric = 'accuracy',warning_true = True)"
   ]
  },
  {
   "cell_type": "markdown",
   "metadata": {},
   "source": [
    "#### (6) Gradient boosting"
   ]
  },
  {
   "cell_type": "code",
   "execution_count": 86,
   "metadata": {},
   "outputs": [
    {
     "name": "stdout",
     "output_type": "stream",
     "text": [
      "Averaged_f1_score: 0.949 +/-0.015\n",
      "Time_of_completion: 442.07347989082336\n",
      "Averaged_precision_score: 0.905 +/-0.026\n",
      "Time_of_completion: 382.6084318161011\n",
      "Averaged_recall_score: 1.000 +/-0.000\n",
      "Time_of_completion: 426.1163809299469\n",
      "Averaged_accuracy_score: 0.942 +/-0.017\n",
      "Time_of_completion: 369.4806458950043\n"
     ]
    }
   ],
   "source": [
    "n_all_PCA_components = min(np.array(features).shape[0], np.array(features).shape[1])\n",
    "    \n",
    "parameters = [{'pca__n_components': np.arange(1,n_all_PCA_components+1),\n",
    "               'clf__n_estimators': np.arange(1,11)*10,\n",
    "               'clf__max_depth': np.arange(2,5)\n",
    "              }]\n",
    "    \n",
    "entire_pipeline_resample(classifier = GradientBoostingClassifier(), parameters = parameters, Num_Random_Trials = 5,Num_of_folds_outer = 5, Num_of_folds_inner = 5, Scoring_metric = 'f1',warning_true = True)\n",
    "entire_pipeline_resample(classifier = GradientBoostingClassifier(), parameters = parameters, Num_Random_Trials = 5,Num_of_folds_outer = 5, Num_of_folds_inner = 5, Scoring_metric = 'precision',warning_true = True)\n",
    "entire_pipeline_resample(classifier = GradientBoostingClassifier(), parameters = parameters, Num_Random_Trials = 5,Num_of_folds_outer = 5, Num_of_folds_inner = 5, Scoring_metric = 'recall',warning_true = True)\n",
    "entire_pipeline_resample(classifier = GradientBoostingClassifier(), parameters = parameters, Num_Random_Trials = 5,Num_of_folds_outer = 5, Num_of_folds_inner = 5, Scoring_metric = 'accuracy',warning_true = True)"
   ]
  },
  {
   "cell_type": "markdown",
   "metadata": {},
   "source": [
    "#### Compare scores across all classifiers with minority class upsampled"
   ]
  },
  {
   "cell_type": "code",
   "execution_count": 100,
   "metadata": {},
   "outputs": [
    {
     "data": {
      "image/png": "[encoded data removed]",
      "text/plain": [
       "<Figure size 864x864 with 1 Axes>"
      ]
     },
     "metadata": {
      "needs_background": "light"
     },
     "output_type": "display_data"
    }
   ],
   "source": [
    "import numpy as np\n",
    "import matplotlib.pyplot as plt\n",
    "\n",
    "# data to plot\n",
    "n_groups = 6\n",
    "\n",
    "F1_scores = (0.862, 0.924, 0.997, 0.952, 0.951, 0.949)\n",
    "F1_scores_error = (0.012, 0.005, 0.003, 0.007, 0.010, 0.015)\n",
    "\n",
    "Precision_scores = (0.827, 0.864, 0.905, 0.913, 0.908, 0.905)\n",
    "Precision_scores_error = (0.018, 0.008, 0.055, 0.016, 0.017, 0.026)\n",
    "\n",
    "Recall_scores = (0.898, 0.994, 0.997, 1.000, 0.990, 1.000)\n",
    "Recall_scores_error = (0.022, 0.013, 0.006, 0, 0.013, 0)\n",
    "\n",
    "Accuracy_scores = (0.857, 0.910, 0.997, 0.949, 0.945, 0.942)\n",
    "Accuracy_scores_error = (0.011, 0.005, 0.003, 0.009, 0.010, 0.017)    \n",
    "\n",
    "space = (0)\n",
    "             \n",
    "# create plot\n",
    "fig, ax = plt.subplots(figsize=(12,12))\n",
    "index = np.arange(n_groups)\n",
    "\n",
    "# Bar graphs expect a total width of \"1.0\" per group\n",
    "# Thus, you should make the sum of the two margins\n",
    "# plus the sum of the width for each entry equal 1.0.\n",
    "# One way of doing that is shown below. You can make\n",
    "# The margins smaller if they're still too big.\n",
    "\n",
    "margin = 0.01\n",
    "bar_width = (1.-2.*margin)/(n_groups)\n",
    "#bar_width = 0.35\n",
    "opacity = 0.8\n",
    "\n",
    "rects1 = plt.bar(index, F1_scores, bar_width,alpha=opacity,color='b',label='F1',yerr=F1_scores_error)\n",
    "\n",
    "rects2 = plt.bar(index + bar_width, Precision_scores, bar_width,alpha=opacity,color='g',label='Precision',yerr=Precision_scores_error)\n",
    "\n",
    "rects3 = plt.bar(index + 2*bar_width, Recall_scores, bar_width,alpha=opacity,color='r',label='Recall',yerr=Recall_scores_error)\n",
    "\n",
    "rects4 = plt.bar(index + 3*bar_width, Accuracy_scores, bar_width, alpha=opacity,color='y',label='Accuracy',yerr=Accuracy_scores_error)\n",
    "\n",
    "\n",
    "plt.xlabel('Classifier', {'size': '20'})\n",
    "plt.ylabel('Scores', {'size': '20'})\n",
    "\n",
    "plt.title('Scores - dataset with minority class upsampled', {'size': '30'})\n",
    "plt.xticks(index + bar_width, ('Log Reg', 'Random Forest', 'SVM', 'KNN', 'Ada Boost', 'Gradient Boosting'), fontsize=16, rotation=45)\n",
    "plt.yticks(fontsize=16)\n",
    "plt.ylim([0.75,1.02])\n",
    "plt.grid('off')\n",
    "plt.legend()\n",
    "\n",
    "plt.tight_layout()\n",
    "plt.show()"
   ]
  },
  {
   "cell_type": "markdown",
   "metadata": {},
   "source": [
    "#### Model selection/ Fine tuning the hyperparamters of the selected algorithm\n",
    "\n",
    "#### SVM with resampled dataset is selected as it has the highest mean score for F1 and reasonably high precision and recall scores"
   ]
  },
  {
   "cell_type": "code",
   "execution_count": 112,
   "metadata": {},
   "outputs": [],
   "source": [
    "\"\"\"\n",
    "\n",
    "To fine tune model and perform validation\n",
    "\n",
    "Implement: \n",
    "(1) Standard scaling on dataset\n",
    "(2) With and Without PCA\n",
    "(3) Logistic regression classifier\n",
    "(4) Stratified K fold cross validation for dataset with imbalanced classes. Cross validation is to prevent overfitting the data and allow choosing paramters that can generalize across datasets (model tuning): can avoid if dataset is very big.\n",
    "(5) GridSearch to iterate through range of parameters for PCA and classifier\n",
    "\n",
    "Arguments:\n",
    "\n",
    "Scoring_metric: Performance evaluation metric for algorithm selection\n",
    "\n",
    "\"\"\"\n",
    "\n",
    "from sklearn.preprocessing import StandardScaler\n",
    "from sklearn.decomposition import PCA\n",
    "from sklearn.linear_model import LogisticRegression\n",
    "from sklearn.ensemble import RandomForestClassifier  \n",
    "from sklearn.neighbors import KNeighborsClassifier\n",
    "from sklearn import svm\n",
    "from sklearn.ensemble import AdaBoostClassifier \n",
    "from sklearn.ensemble import GradientBoostingClassifier\n",
    "from sklearn.pipeline import Pipeline\n",
    "from sklearn.model_selection import StratifiedKFold, KFold, GridSearchCV, cross_val_score\n",
    "import time \n",
    "import warnings\n",
    "\n",
    "def ModelFineTune(classifier = LogisticRegression(), parameters = [], Num_of_folds = 5, Repeats = 1000, Scoring_metric = 'f1', warning_true = True):\n",
    "\n",
    "        \n",
    "    if warning_true:\n",
    "        warnings.filterwarnings('ignore')\n",
    "\n",
    "    pipe = Pipeline([['sc', StandardScaler()], \n",
    "                     ['pca', PCA()], \n",
    "                     ['clf', classifier]\n",
    "                    ])\n",
    "\n",
    "    # To store the scores from each fold of the outer loop \n",
    "    scores_and_best_parameters = {'scores':[], 'parameters':[]}\n",
    "\n",
    "    start = time.time()\n",
    "    \n",
    "    for i in np.arange(Repeats+1):\n",
    "        \n",
    "        k_fold = StratifiedKFold(n_splits=Num_of_folds,shuffle=True,random_state=i)\n",
    "\n",
    "        gs = GridSearchCV(estimator=pipe,param_grid=parameters,cv=k_fold,scoring=Scoring_metric, n_jobs=-1)\n",
    "        #gs = gs.fit(features, labels)\n",
    "        gs = gs.fit(X_balanced, Y_balanced)\n",
    "        scores_and_best_parameters['scores'].append(gs.best_score_)\n",
    "        scores_and_best_parameters['parameters'].append(str(gs.best_params_))\n",
    "        \n",
    "    print('Compute time:' , time.time() - start)\n",
    "\n",
    "    return scores_and_best_parameters"
   ]
  },
  {
   "cell_type": "code",
   "execution_count": 113,
   "metadata": {},
   "outputs": [],
   "source": [
    "n_all_PCA_components = min(np.array(features).shape[0], np.array(features).shape[1])\n",
    "    \n",
    "parameters = [{'pca__n_components': np.arange(1,n_all_PCA_components+1),\n",
    "               'clf__C': 10.0**np.arange(-4,4), \n",
    "               'clf__kernel': ['linear', 'poly','sigmoid'],\n",
    "               'clf__kernel': ['linear']\n",
    "              },\n",
    "              \n",
    "              {'pca__n_components': np.arange(1,n_all_PCA_components+1),\n",
    "               'clf__C': 10.0**np.arange(-4,4),\n",
    "               'clf__gamma': 10.0**np.arange(-4,4), \n",
    "               'clf__kernel': ['rbf']\n",
    "              }]\n",
    " \n",
    "#scores_and_best_parameters = ModelFineTune(classifier = svm.SVC(), parameters = parameters, Num_of_folds = 5, Repeats = 200, Scoring_metric = 'f1', warning_true = True)"
   ]
  },
  {
   "cell_type": "markdown",
   "metadata": {},
   "source": [
    "#### F1"
   ]
  },
  {
   "cell_type": "code",
   "execution_count": 114,
   "metadata": {},
   "outputs": [
    {
     "name": "stdout",
     "output_type": "stream",
     "text": [
      "Compute time: 1435.8559889793396\n"
     ]
    }
   ],
   "source": [
    "scores_and_best_parameters = ModelFineTune(classifier = svm.SVC(), parameters = parameters, Num_of_folds = 5, Repeats = 100, Scoring_metric = 'f1', warning_true = True)\n",
    "\n"
   ]
  },
  {
   "cell_type": "code",
   "execution_count": 115,
   "metadata": {},
   "outputs": [
    {
     "data": {
      "text/html": [
       "<div>\n",
       "<style scoped>\n",
       "    .dataframe tbody tr th:only-of-type {\n",
       "        vertical-align: middle;\n",
       "    }\n",
       "\n",
       "    .dataframe tbody tr th {\n",
       "        vertical-align: top;\n",
       "    }\n",
       "\n",
       "    .dataframe thead th {\n",
       "        text-align: right;\n",
       "    }\n",
       "</style>\n",
       "<table border=\"1\" class=\"dataframe\">\n",
       "  <thead>\n",
       "    <tr style=\"text-align: right;\">\n",
       "      <th></th>\n",
       "      <th>count</th>\n",
       "      <th>mean</th>\n",
       "      <th>std</th>\n",
       "      <th>min</th>\n",
       "      <th>25%</th>\n",
       "      <th>50%</th>\n",
       "      <th>75%</th>\n",
       "      <th>max</th>\n",
       "    </tr>\n",
       "    <tr>\n",
       "      <th>parameters</th>\n",
       "      <th></th>\n",
       "      <th></th>\n",
       "      <th></th>\n",
       "      <th></th>\n",
       "      <th></th>\n",
       "      <th></th>\n",
       "      <th></th>\n",
       "      <th></th>\n",
       "    </tr>\n",
       "  </thead>\n",
       "  <tbody>\n",
       "    <tr>\n",
       "      <th>{'clf__C': 1.0, 'clf__gamma': 10.0, 'clf__kernel': 'rbf', 'pca__n_components': 3}</th>\n",
       "      <td>69.0</td>\n",
       "      <td>1.0</td>\n",
       "      <td>0.0</td>\n",
       "      <td>0.99</td>\n",
       "      <td>1.0</td>\n",
       "      <td>1.0</td>\n",
       "      <td>1.0</td>\n",
       "      <td>1.0</td>\n",
       "    </tr>\n",
       "    <tr>\n",
       "      <th>{'clf__C': 0.0001, 'clf__gamma': 1000.0, 'clf__kernel': 'rbf', 'pca__n_components': 4}</th>\n",
       "      <td>25.0</td>\n",
       "      <td>1.0</td>\n",
       "      <td>0.0</td>\n",
       "      <td>1.00</td>\n",
       "      <td>1.0</td>\n",
       "      <td>1.0</td>\n",
       "      <td>1.0</td>\n",
       "      <td>1.0</td>\n",
       "    </tr>\n",
       "    <tr>\n",
       "      <th>{'clf__C': 0.0001, 'clf__gamma': 1000.0, 'clf__kernel': 'rbf', 'pca__n_components': 3}</th>\n",
       "      <td>3.0</td>\n",
       "      <td>1.0</td>\n",
       "      <td>0.0</td>\n",
       "      <td>1.00</td>\n",
       "      <td>1.0</td>\n",
       "      <td>1.0</td>\n",
       "      <td>1.0</td>\n",
       "      <td>1.0</td>\n",
       "    </tr>\n",
       "    <tr>\n",
       "      <th>{'clf__C': 0.0001, 'clf__gamma': 1000.0, 'clf__kernel': 'rbf', 'pca__n_components': 6}</th>\n",
       "      <td>3.0</td>\n",
       "      <td>1.0</td>\n",
       "      <td>0.0</td>\n",
       "      <td>1.00</td>\n",
       "      <td>1.0</td>\n",
       "      <td>1.0</td>\n",
       "      <td>1.0</td>\n",
       "      <td>1.0</td>\n",
       "    </tr>\n",
       "    <tr>\n",
       "      <th>{'clf__C': 0.0001, 'clf__gamma': 1000.0, 'clf__kernel': 'rbf', 'pca__n_components': 5}</th>\n",
       "      <td>1.0</td>\n",
       "      <td>1.0</td>\n",
       "      <td>NaN</td>\n",
       "      <td>1.00</td>\n",
       "      <td>1.0</td>\n",
       "      <td>1.0</td>\n",
       "      <td>1.0</td>\n",
       "      <td>1.0</td>\n",
       "    </tr>\n",
       "  </tbody>\n",
       "</table>\n",
       "</div>"
      ],
      "text/plain": [
       "                                                    count  mean  std   min  \\\n",
       "parameters                                                                   \n",
       "{'clf__C': 1.0, 'clf__gamma': 10.0, 'clf__kerne...   69.0   1.0  0.0  0.99   \n",
       "{'clf__C': 0.0001, 'clf__gamma': 1000.0, 'clf__...   25.0   1.0  0.0  1.00   \n",
       "{'clf__C': 0.0001, 'clf__gamma': 1000.0, 'clf__...    3.0   1.0  0.0  1.00   \n",
       "{'clf__C': 0.0001, 'clf__gamma': 1000.0, 'clf__...    3.0   1.0  0.0  1.00   \n",
       "{'clf__C': 0.0001, 'clf__gamma': 1000.0, 'clf__...    1.0   1.0  NaN  1.00   \n",
       "\n",
       "                                                    25%  50%  75%  max  \n",
       "parameters                                                              \n",
       "{'clf__C': 1.0, 'clf__gamma': 10.0, 'clf__kerne...  1.0  1.0  1.0  1.0  \n",
       "{'clf__C': 0.0001, 'clf__gamma': 1000.0, 'clf__...  1.0  1.0  1.0  1.0  \n",
       "{'clf__C': 0.0001, 'clf__gamma': 1000.0, 'clf__...  1.0  1.0  1.0  1.0  \n",
       "{'clf__C': 0.0001, 'clf__gamma': 1000.0, 'clf__...  1.0  1.0  1.0  1.0  \n",
       "{'clf__C': 0.0001, 'clf__gamma': 1000.0, 'clf__...  1.0  1.0  1.0  1.0  "
      ]
     },
     "metadata": {},
     "output_type": "display_data"
    }
   ],
   "source": [
    "#DataFrame summarizing average of best scores, frequency for each best parameter value\n",
    "\n",
    "best_params_df = pd.DataFrame(scores_and_best_parameters)\n",
    "best_params_df = best_params_df.groupby(['parameters'])['scores'].describe()\n",
    "best_params_df = np.round(best_params_df,decimals=2).sort_values(by = ['count', 'mean'],axis=0,ascending=[False,False])\n",
    "display(best_params_df.head(10))"
   ]
  },
  {
   "cell_type": "markdown",
   "metadata": {
    "collapsed": true
   },
   "source": [
    "#### Precision"
   ]
  },
  {
   "cell_type": "code",
   "execution_count": 116,
   "metadata": {},
   "outputs": [
    {
     "name": "stdout",
     "output_type": "stream",
     "text": [
      "Compute time: 1496.9669551849365\n"
     ]
    }
   ],
   "source": [
    "scores_and_best_parameters = ModelFineTune(classifier = svm.SVC(), parameters = parameters, Num_of_folds = 5, Repeats = 100, Scoring_metric = 'precision', warning_true = True)"
   ]
  },
  {
   "cell_type": "code",
   "execution_count": 117,
   "metadata": {},
   "outputs": [
    {
     "data": {
      "text/html": [
       "<div>\n",
       "<style scoped>\n",
       "    .dataframe tbody tr th:only-of-type {\n",
       "        vertical-align: middle;\n",
       "    }\n",
       "\n",
       "    .dataframe tbody tr th {\n",
       "        vertical-align: top;\n",
       "    }\n",
       "\n",
       "    .dataframe thead th {\n",
       "        text-align: right;\n",
       "    }\n",
       "</style>\n",
       "<table border=\"1\" class=\"dataframe\">\n",
       "  <thead>\n",
       "    <tr style=\"text-align: right;\">\n",
       "      <th></th>\n",
       "      <th>count</th>\n",
       "      <th>mean</th>\n",
       "      <th>std</th>\n",
       "      <th>min</th>\n",
       "      <th>25%</th>\n",
       "      <th>50%</th>\n",
       "      <th>75%</th>\n",
       "      <th>max</th>\n",
       "    </tr>\n",
       "    <tr>\n",
       "      <th>parameters</th>\n",
       "      <th></th>\n",
       "      <th></th>\n",
       "      <th></th>\n",
       "      <th></th>\n",
       "      <th></th>\n",
       "      <th></th>\n",
       "      <th></th>\n",
       "      <th></th>\n",
       "    </tr>\n",
       "  </thead>\n",
       "  <tbody>\n",
       "    <tr>\n",
       "      <th>{'clf__C': 0.0001, 'clf__gamma': 1000.0, 'clf__kernel': 'rbf', 'pca__n_components': 4}</th>\n",
       "      <td>70.0</td>\n",
       "      <td>1.0</td>\n",
       "      <td>0.0</td>\n",
       "      <td>1.0</td>\n",
       "      <td>1.0</td>\n",
       "      <td>1.0</td>\n",
       "      <td>1.0</td>\n",
       "      <td>1.0</td>\n",
       "    </tr>\n",
       "    <tr>\n",
       "      <th>{'clf__C': 0.0001, 'clf__gamma': 1000.0, 'clf__kernel': 'rbf', 'pca__n_components': 6}</th>\n",
       "      <td>14.0</td>\n",
       "      <td>1.0</td>\n",
       "      <td>0.0</td>\n",
       "      <td>1.0</td>\n",
       "      <td>1.0</td>\n",
       "      <td>1.0</td>\n",
       "      <td>1.0</td>\n",
       "      <td>1.0</td>\n",
       "    </tr>\n",
       "    <tr>\n",
       "      <th>{'clf__C': 0.0001, 'clf__gamma': 1000.0, 'clf__kernel': 'rbf', 'pca__n_components': 7}</th>\n",
       "      <td>8.0</td>\n",
       "      <td>1.0</td>\n",
       "      <td>0.0</td>\n",
       "      <td>1.0</td>\n",
       "      <td>1.0</td>\n",
       "      <td>1.0</td>\n",
       "      <td>1.0</td>\n",
       "      <td>1.0</td>\n",
       "    </tr>\n",
       "    <tr>\n",
       "      <th>{'clf__C': 0.0001, 'clf__gamma': 1000.0, 'clf__kernel': 'rbf', 'pca__n_components': 5}</th>\n",
       "      <td>6.0</td>\n",
       "      <td>1.0</td>\n",
       "      <td>0.0</td>\n",
       "      <td>1.0</td>\n",
       "      <td>1.0</td>\n",
       "      <td>1.0</td>\n",
       "      <td>1.0</td>\n",
       "      <td>1.0</td>\n",
       "    </tr>\n",
       "    <tr>\n",
       "      <th>{'clf__C': 0.0001, 'clf__gamma': 1000.0, 'clf__kernel': 'rbf', 'pca__n_components': 3}</th>\n",
       "      <td>3.0</td>\n",
       "      <td>1.0</td>\n",
       "      <td>0.0</td>\n",
       "      <td>1.0</td>\n",
       "      <td>1.0</td>\n",
       "      <td>1.0</td>\n",
       "      <td>1.0</td>\n",
       "      <td>1.0</td>\n",
       "    </tr>\n",
       "  </tbody>\n",
       "</table>\n",
       "</div>"
      ],
      "text/plain": [
       "                                                    count  mean  std  min  \\\n",
       "parameters                                                                  \n",
       "{'clf__C': 0.0001, 'clf__gamma': 1000.0, 'clf__...   70.0   1.0  0.0  1.0   \n",
       "{'clf__C': 0.0001, 'clf__gamma': 1000.0, 'clf__...   14.0   1.0  0.0  1.0   \n",
       "{'clf__C': 0.0001, 'clf__gamma': 1000.0, 'clf__...    8.0   1.0  0.0  1.0   \n",
       "{'clf__C': 0.0001, 'clf__gamma': 1000.0, 'clf__...    6.0   1.0  0.0  1.0   \n",
       "{'clf__C': 0.0001, 'clf__gamma': 1000.0, 'clf__...    3.0   1.0  0.0  1.0   \n",
       "\n",
       "                                                    25%  50%  75%  max  \n",
       "parameters                                                              \n",
       "{'clf__C': 0.0001, 'clf__gamma': 1000.0, 'clf__...  1.0  1.0  1.0  1.0  \n",
       "{'clf__C': 0.0001, 'clf__gamma': 1000.0, 'clf__...  1.0  1.0  1.0  1.0  \n",
       "{'clf__C': 0.0001, 'clf__gamma': 1000.0, 'clf__...  1.0  1.0  1.0  1.0  \n",
       "{'clf__C': 0.0001, 'clf__gamma': 1000.0, 'clf__...  1.0  1.0  1.0  1.0  \n",
       "{'clf__C': 0.0001, 'clf__gamma': 1000.0, 'clf__...  1.0  1.0  1.0  1.0  "
      ]
     },
     "metadata": {},
     "output_type": "display_data"
    }
   ],
   "source": [
    "best_params_df = pd.DataFrame(scores_and_best_parameters)\n",
    "best_params_df = best_params_df.groupby(['parameters'])['scores'].describe()\n",
    "best_params_df = np.round(best_params_df,decimals=2).sort_values(by = ['count', 'mean'],axis=0,ascending=[False,False])\n",
    "display(best_params_df.head(10))"
   ]
  },
  {
   "cell_type": "markdown",
   "metadata": {
    "collapsed": true
   },
   "source": [
    "#### Recall"
   ]
  },
  {
   "cell_type": "code",
   "execution_count": 118,
   "metadata": {},
   "outputs": [
    {
     "name": "stdout",
     "output_type": "stream",
     "text": [
      "Compute time: 1519.9251029491425\n"
     ]
    }
   ],
   "source": [
    "scores_and_best_parameters = ModelFineTune(classifier = svm.SVC(), parameters = parameters, Num_of_folds = 5, Repeats = 100, Scoring_metric = 'recall', warning_true = True)"
   ]
  },
  {
   "cell_type": "code",
   "execution_count": 119,
   "metadata": {},
   "outputs": [
    {
     "data": {
      "text/html": [
       "<div>\n",
       "<style scoped>\n",
       "    .dataframe tbody tr th:only-of-type {\n",
       "        vertical-align: middle;\n",
       "    }\n",
       "\n",
       "    .dataframe tbody tr th {\n",
       "        vertical-align: top;\n",
       "    }\n",
       "\n",
       "    .dataframe thead th {\n",
       "        text-align: right;\n",
       "    }\n",
       "</style>\n",
       "<table border=\"1\" class=\"dataframe\">\n",
       "  <thead>\n",
       "    <tr style=\"text-align: right;\">\n",
       "      <th></th>\n",
       "      <th>count</th>\n",
       "      <th>mean</th>\n",
       "      <th>std</th>\n",
       "      <th>min</th>\n",
       "      <th>25%</th>\n",
       "      <th>50%</th>\n",
       "      <th>75%</th>\n",
       "      <th>max</th>\n",
       "    </tr>\n",
       "    <tr>\n",
       "      <th>parameters</th>\n",
       "      <th></th>\n",
       "      <th></th>\n",
       "      <th></th>\n",
       "      <th></th>\n",
       "      <th></th>\n",
       "      <th></th>\n",
       "      <th></th>\n",
       "      <th></th>\n",
       "    </tr>\n",
       "  </thead>\n",
       "  <tbody>\n",
       "    <tr>\n",
       "      <th>{'clf__C': 0.0001, 'clf__gamma': 1000.0, 'clf__kernel': 'rbf', 'pca__n_components': 4}</th>\n",
       "      <td>70.0</td>\n",
       "      <td>1.0</td>\n",
       "      <td>0.0</td>\n",
       "      <td>1.0</td>\n",
       "      <td>1.0</td>\n",
       "      <td>1.0</td>\n",
       "      <td>1.0</td>\n",
       "      <td>1.0</td>\n",
       "    </tr>\n",
       "    <tr>\n",
       "      <th>{'clf__C': 0.0001, 'clf__gamma': 1000.0, 'clf__kernel': 'rbf', 'pca__n_components': 6}</th>\n",
       "      <td>14.0</td>\n",
       "      <td>1.0</td>\n",
       "      <td>0.0</td>\n",
       "      <td>1.0</td>\n",
       "      <td>1.0</td>\n",
       "      <td>1.0</td>\n",
       "      <td>1.0</td>\n",
       "      <td>1.0</td>\n",
       "    </tr>\n",
       "    <tr>\n",
       "      <th>{'clf__C': 0.0001, 'clf__gamma': 1000.0, 'clf__kernel': 'rbf', 'pca__n_components': 7}</th>\n",
       "      <td>8.0</td>\n",
       "      <td>1.0</td>\n",
       "      <td>0.0</td>\n",
       "      <td>1.0</td>\n",
       "      <td>1.0</td>\n",
       "      <td>1.0</td>\n",
       "      <td>1.0</td>\n",
       "      <td>1.0</td>\n",
       "    </tr>\n",
       "    <tr>\n",
       "      <th>{'clf__C': 0.0001, 'clf__gamma': 1000.0, 'clf__kernel': 'rbf', 'pca__n_components': 5}</th>\n",
       "      <td>6.0</td>\n",
       "      <td>1.0</td>\n",
       "      <td>0.0</td>\n",
       "      <td>1.0</td>\n",
       "      <td>1.0</td>\n",
       "      <td>1.0</td>\n",
       "      <td>1.0</td>\n",
       "      <td>1.0</td>\n",
       "    </tr>\n",
       "    <tr>\n",
       "      <th>{'clf__C': 0.0001, 'clf__gamma': 1000.0, 'clf__kernel': 'rbf', 'pca__n_components': 3}</th>\n",
       "      <td>3.0</td>\n",
       "      <td>1.0</td>\n",
       "      <td>0.0</td>\n",
       "      <td>1.0</td>\n",
       "      <td>1.0</td>\n",
       "      <td>1.0</td>\n",
       "      <td>1.0</td>\n",
       "      <td>1.0</td>\n",
       "    </tr>\n",
       "  </tbody>\n",
       "</table>\n",
       "</div>"
      ],
      "text/plain": [
       "                                                    count  mean  std  min  \\\n",
       "parameters                                                                  \n",
       "{'clf__C': 0.0001, 'clf__gamma': 1000.0, 'clf__...   70.0   1.0  0.0  1.0   \n",
       "{'clf__C': 0.0001, 'clf__gamma': 1000.0, 'clf__...   14.0   1.0  0.0  1.0   \n",
       "{'clf__C': 0.0001, 'clf__gamma': 1000.0, 'clf__...    8.0   1.0  0.0  1.0   \n",
       "{'clf__C': 0.0001, 'clf__gamma': 1000.0, 'clf__...    6.0   1.0  0.0  1.0   \n",
       "{'clf__C': 0.0001, 'clf__gamma': 1000.0, 'clf__...    3.0   1.0  0.0  1.0   \n",
       "\n",
       "                                                    25%  50%  75%  max  \n",
       "parameters                                                              \n",
       "{'clf__C': 0.0001, 'clf__gamma': 1000.0, 'clf__...  1.0  1.0  1.0  1.0  \n",
       "{'clf__C': 0.0001, 'clf__gamma': 1000.0, 'clf__...  1.0  1.0  1.0  1.0  \n",
       "{'clf__C': 0.0001, 'clf__gamma': 1000.0, 'clf__...  1.0  1.0  1.0  1.0  \n",
       "{'clf__C': 0.0001, 'clf__gamma': 1000.0, 'clf__...  1.0  1.0  1.0  1.0  \n",
       "{'clf__C': 0.0001, 'clf__gamma': 1000.0, 'clf__...  1.0  1.0  1.0  1.0  "
      ]
     },
     "metadata": {},
     "output_type": "display_data"
    }
   ],
   "source": [
    "best_params_df = np.round(best_params_df,decimals=2).sort_values(by = ['count', 'mean'],axis=0,ascending=[False,False])\n",
    "display(best_params_df.head(10))"
   ]
  },
  {
   "cell_type": "markdown",
   "metadata": {},
   "source": [
    "#### Validation curve to check over- and under-fitting"
   ]
  },
  {
   "cell_type": "code",
   "execution_count": 127,
   "metadata": {
    "scrolled": false
   },
   "outputs": [
    {
     "data": {
      "image/png": "[encoded data removed]",
      "text/plain": [
       "<Figure size 720x720 with 1 Axes>"
      ]
     },
     "metadata": {
      "needs_background": "light"
     },
     "output_type": "display_data"
    },
    {
     "data": {
      "image/png": "[encoded data removed]",
      "text/plain": [
       "<Figure size 720x720 with 1 Axes>"
      ]
     },
     "metadata": {
      "needs_background": "light"
     },
     "output_type": "display_data"
    },
    {
     "data": {
      "image/png": "[encoded data removed]",
      "text/plain": [
       "<Figure size 720x720 with 1 Axes>"
      ]
     },
     "metadata": {
      "needs_background": "light"
     },
     "output_type": "display_data"
    }
   ],
   "source": [
    "from sklearn.pipeline import make_pipeline\n",
    "from sklearn.model_selection import validation_curve\n",
    "from sklearn.svm import SVC\n",
    "\n",
    "def validation_curve_score_vs_C(scoring_metric='f1', name = 'f1'):\n",
    "\n",
    "    Num_of_folds = 5\n",
    "\n",
    "    param_range = 10.0**np.arange(-4,4)\n",
    "\n",
    "    warnings.filterwarnings('ignore')\n",
    "\n",
    "    pipe = make_pipeline(StandardScaler(), PCA(n_components=4), SVC(gamma = 1000.0, kernel= 'rbf'))            \n",
    "\n",
    "\n",
    "    k_fold = StratifiedKFold(n_splits=Num_of_folds,shuffle=True,random_state=1)\n",
    "    train_scores, test_scores = validation_curve(estimator = pipe, X = X_balanced, y = Y_balanced , param_name='svc__C', param_range = param_range, cv = k_fold, scoring = scoring_metric)\n",
    "\n",
    "    train_mean = np.mean(train_scores, axis = 1)\n",
    "    train_std = np.std(train_scores, axis = 1)\n",
    "    test_mean = np.mean(test_scores, axis=1)\n",
    "    test_std = np.std(test_scores, axis=1)\n",
    "\n",
    "    fig = plt.figure(figsize=(10,10))\n",
    "    plt.plot(param_range, train_mean,color='blue',marker='o',markersize=5, label='training' + ' ' + name)\n",
    "    plt.fill_between(param_range, train_mean + train_std, train_mean - train_std, alpha=0.15, color ='blue')\n",
    "    plt.plot(param_range, test_mean, color='green',linestyle='--',marker='s',markersize=5, label = 'validation' + ' ' + name)\n",
    "\n",
    "    plt.fill_between(param_range, test_mean+test_std, test_mean-test_std, alpha=0.15, color='green')\n",
    "\n",
    "    plt.grid()\n",
    "    plt.xscale('log')\n",
    "    plt.legend(loc='lower right')\n",
    "    plt.xlabel('Parameter C')\n",
    "    plt.ylabel(name)\n",
    "    plt.show()\n",
    "\n",
    "validation_curve_score_vs_C(scoring_metric='f1', name = 'f1')\n",
    "validation_curve_score_vs_C(scoring_metric='recall', name = 'recall')\n",
    "validation_curve_score_vs_C(scoring_metric='precision', name = 'precision')"
   ]
  },
  {
   "cell_type": "markdown",
   "metadata": {
    "collapsed": true
   },
   "source": [
    "#### Receiver operating characteristic (ROC curve) Sensitivity/Recall/TPR v.s. Selectivity/FPR\n",
    "#### Allows threshold to be set during prediction to potentially improve prediction\n",
    "#### Choose model based on F1 and Recall"
   ]
  },
  {
   "cell_type": "code",
   "execution_count": 130,
   "metadata": {},
   "outputs": [
    {
     "data": {
      "image/png": "[encoded data removed]",
      "text/plain": [
       "<Figure size 720x720 with 1 Axes>"
      ]
     },
     "metadata": {
      "needs_background": "light"
     },
     "output_type": "display_data"
    }
   ],
   "source": [
    "from sklearn.metrics import roc_curve, auc\n",
    "from scipy import interp\n",
    "from sklearn.svm import SVC\n",
    "\n",
    "pipe = Pipeline([['sc', StandardScaler()], \n",
    "                 ['pca', PCA(n_components = 4)], \n",
    "                 ['clf', SVC(gamma = 1000.0, kernel= 'rbf',probability=True)]\n",
    "                    ])\n",
    "\n",
    " \n",
    "cv = list(StratifiedKFold(n_splits=3, random_state=1).split(X_balanced, Y_balanced))\n",
    "\n",
    "fig = plt.figure(figsize=(10,10))\n",
    "\n",
    "mean_tpr = 0.0\n",
    "mean_fpr = np.linspace(0,1,100)\n",
    "\n",
    "# probas is the probability of each class, probas[:,1] is the probability of class 1\n",
    "# Weights are updated after training sample in each fold\n",
    "for i, (train, test) in enumerate(cv):\n",
    "    probas = pipe.fit(np.array(X_balanced)[train,:], np.array(Y_balanced)[train]).predict_proba(np.array(X_balanced)[test,:])\n",
    "    fpr, tpr, thresholds = roc_curve(np.array(Y_balanced)[test], probas[:,1], pos_label=1)\n",
    "    mean_tpr += interp(mean_fpr, fpr, tpr)\n",
    "    mean_tpr[0] = 0.0\n",
    "    roc_auc = auc(fpr, tpr)\n",
    "    plt.plot(fpr,tpr,label='ROC fold %d (area = %0.2f)' % (i+1, roc_auc))\n",
    "    \n",
    "plt.plot([0,1], [0,1], linestyle = '--', color=(0.6,0.6,0.6), label='random guessing')\n",
    "\n",
    "# Average across all folds of CV\n",
    "mean_tpr /= len(cv)\n",
    "mean_tpr[-1] = 1.0\n",
    "mean_auc = auc(mean_fpr, mean_tpr)\n",
    "plt.plot(mean_fpr, mean_tpr, 'k--', label = 'mean ROC (area = %0.2f)' %mean_auc, lw=2)\n",
    "plt.plot([0,0,1], [0,1,1], linestyle=':', color='black', label= 'perfect performance')\n",
    "plt.xlim([-0.05, 1.05])\n",
    "plt.ylim([-0.05, 1.05])\n",
    "plt.xlabel('false positive rate')\n",
    "plt.ylabel('true positive rate')\n",
    "plt.legend(loc='lower right')\n",
    "plt.grid('off')\n",
    "plt.show()\n",
    "    "
   ]
  },
  {
   "cell_type": "markdown",
   "metadata": {
    "collapsed": true
   },
   "source": [
    "#### Precision-Recall Curve (Overall AUC using concatenate)\n",
    "#### Choose model based on F1 and Recall"
   ]
  },
  {
   "cell_type": "code",
   "execution_count": 133,
   "metadata": {},
   "outputs": [
    {
     "name": "stdout",
     "output_type": "stream",
     "text": [
      "84 84\n",
      "84 84\n",
      "82 82\n"
     ]
    },
    {
     "data": {
      "text/plain": [
       "<matplotlib.legend.Legend at 0x1a22d4c438>"
      ]
     },
     "execution_count": 133,
     "metadata": {},
     "output_type": "execute_result"
    },
    {
     "data": {
      "image/png": "[encoded data removed]",
      "text/plain": [
       "<Figure size 720x720 with 1 Axes>"
      ]
     },
     "metadata": {
      "needs_background": "light"
     },
     "output_type": "display_data"
    }
   ],
   "source": [
    "from sklearn.metrics import precision_recall_curve, auc\n",
    "from sklearn.linear_model import LogisticRegression\n",
    "from sklearn.svm import SVC\n",
    "\n",
    "pipe = Pipeline([['sc', StandardScaler()], \n",
    "                 ['pca', PCA(n_components = 4)], \n",
    "                 ['clf', SVC(gamma = 1000.0, kernel= 'rbf',probability=True)]\n",
    "                    ])\n",
    "\n",
    "cv = list(StratifiedKFold(n_splits=3, random_state=1).split(X_balanced, Y_balanced))\n",
    "\n",
    "\n",
    "fig = plt.figure(figsize=(10,10))\n",
    "\n",
    "y_real = []\n",
    "y_proba = []\n",
    "\n",
    "# probas is the probability of each class, probas[:,1] is the probability of class 1\n",
    "for i, (train, test) in enumerate(cv):\n",
    "    \n",
    "    probas = pipe.fit(np.array(X_balanced)[train,:], np.array(Y_balanced)[train]).predict_proba(np.array(X_balanced)[test,:])\n",
    "    precision, recall, thresholds = precision_recall_curve(Y_balanced[test], probas[:,1], pos_label=1)\n",
    "    lab = 'Fold %d AUC=%.4f' % (i+1, auc(recall, precision))\n",
    "    plt.step(recall, precision, label=lab)\n",
    "    y_real.append(Y_balanced[test])\n",
    "    y_proba.append(probas[:,1])\n",
    "    print(len(y_real[i]), len(y_proba[i]))\n",
    "\n",
    "y_real = np.concatenate(y_real)\n",
    "y_proba = np.concatenate(y_proba)\n",
    "\n",
    "precision, recall, thresholds = precision_recall_curve(y_real, y_proba, pos_label=1)\n",
    "lab = 'Overall AUC=%.4f' % (auc(recall, precision))\n",
    "plt.step(recall, precision, label=lab, lw=2, color='black')\n",
    "plt.xlabel('Recall')\n",
    "plt.ylabel('Precision')\n",
    "plt.legend(loc='lower left', fontsize='small')\n"
   ]
  }
 ],
 "metadata": {
  "kernelspec": {
   "display_name": "Python 3",
   "language": "python",
   "name": "python3"
  },
  "language_info": {
   "codemirror_mode": {
    "name": "ipython",
    "version": 3
   },
   "file_extension": ".py",
   "mimetype": "text/x-python",
   "name": "python",
   "nbconvert_exporter": "python",
   "pygments_lexer": "ipython3",
   "version": "3.7.1"
  },
  "varInspector": {
   "cols": {
    "lenName": 16,
    "lenType": 16,
    "lenVar": 40
   },
   "kernels_config": {
    "python": {
     "delete_cmd_postfix": "",
     "delete_cmd_prefix": "del ",
     "library": "var_list.py",
     "varRefreshCmd": "print(var_dic_list())"
    },
    "r": {
     "delete_cmd_postfix": ") ",
     "delete_cmd_prefix": "rm(",
     "library": "var_list.r",
     "varRefreshCmd": "cat(var_dic_list()) "
    }
   },
   "types_to_exclude": [
    "module",
    "function",
    "builtin_function_or_method",
    "instance",
    "_Feature"
   ],
   "window_display": false
  }
 },
 "nbformat": 4,
 "nbformat_minor": 2
}
